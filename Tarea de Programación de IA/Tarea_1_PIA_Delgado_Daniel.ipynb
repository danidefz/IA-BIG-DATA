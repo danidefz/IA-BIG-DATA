{
 "cells": [
  {
   "cell_type": "markdown",
   "metadata": {
    "id": "2HpKY32aha07"
   },
   "source": [
    "# TAREA 1 -PROGRAMACIÓN INTELIGENCIA ARTIFICIAL\n",
    "### Tarea evaluable"
   ]
  },
  {
   "cell_type": "markdown",
   "metadata": {
    "id": "EjWiBLZPaFQM"
   },
   "source": [
    "**Antes de empezar, cierra el archivo y renómbralo cambiando \"Apellido1\" por tu primer apellido y \"Nombre\" por tu nombre. Después vuelve a abrirlo y trabaja directamente sobre él.**    \n",
    "\n",
    "***NOMBRE:*** Daniel Delgado Fernández"
   ]
  },
  {
   "cell_type": "markdown",
   "metadata": {
    "id": "dl2_sxL1rLqM"
   },
   "source": [
    "---\n",
    "## Previos"
   ]
  },
  {
   "cell_type": "markdown",
   "metadata": {
    "id": "nBzwPHmJrOVC"
   },
   "source": [
    "Antes de empezar, importa todas las librerías que necesitas para trabajar:"
   ]
  },
  {
   "cell_type": "code",
   "execution_count": 1,
   "metadata": {
    "id": "W2OKcUXnrSWx"
   },
   "outputs": [],
   "source": [
    "import numpy as np\n",
    "import pandas as pd\n",
    "import matplotlib.pyplot as plt"
   ]
  },
  {
   "cell_type": "markdown",
   "metadata": {
    "id": "jKx-RWxVrTvP"
   },
   "source": [
    "---\n",
    "## Ejercicio 1(0.5 ptos.)"
   ]
  },
  {
   "cell_type": "markdown",
   "metadata": {
    "id": "49hRG_zFrUTq"
   },
   "source": [
    "Genera una matriz (100 filas x 5 columnas) de números enteros aleatorios del 0 al 9 con NumPy. Muestra la siguiente información de la misma:\n",
    "\n",
    "*   Tamaño (cantidad de elementos en total)\n",
    "*   Forma\n",
    "*   Tipo (recuerda utilizar SOLO NumPy)\n",
    "*   Desviación estándar\n",
    "*   Media\n",
    "*   Mediana\n",
    "*   Todos los valores entre las filas 25 y 27 (ambas incluídas) y entre las columnas 1 y 3 (ambas incluídas)\n",
    "*   Matriz de correlación entre columnas"
   ]
  },
  {
   "cell_type": "code",
   "execution_count": 2,
   "metadata": {
    "id": "qz-NqWPrrUiW"
   },
   "outputs": [
    {
     "data": {
      "text/plain": [
       "array([[5, 2, 0, 0, 5],\n",
       "       [3, 5, 4, 3, 2],\n",
       "       [4, 8, 0, 8, 6],\n",
       "       [0, 7, 1, 8, 6],\n",
       "       [0, 8, 0, 8, 7],\n",
       "       [1, 3, 9, 7, 3],\n",
       "       [9, 9, 4, 1, 1],\n",
       "       [4, 7, 9, 8, 5],\n",
       "       [1, 5, 4, 6, 8],\n",
       "       [0, 2, 1, 3, 4],\n",
       "       [1, 4, 2, 1, 4],\n",
       "       [7, 3, 2, 8, 7],\n",
       "       [8, 7, 2, 3, 4],\n",
       "       [3, 0, 9, 2, 7],\n",
       "       [0, 3, 6, 2, 7],\n",
       "       [9, 7, 7, 8, 7],\n",
       "       [8, 6, 1, 8, 5],\n",
       "       [5, 7, 3, 0, 5],\n",
       "       [6, 0, 8, 4, 1],\n",
       "       [6, 4, 7, 9, 6],\n",
       "       [2, 5, 4, 9, 0],\n",
       "       [4, 4, 4, 3, 1],\n",
       "       [3, 1, 7, 2, 7],\n",
       "       [4, 7, 8, 9, 0],\n",
       "       [3, 7, 7, 5, 9],\n",
       "       [5, 0, 1, 8, 2],\n",
       "       [0, 8, 7, 8, 1],\n",
       "       [5, 0, 8, 4, 9],\n",
       "       [9, 4, 0, 5, 5],\n",
       "       [2, 7, 4, 0, 2],\n",
       "       [4, 5, 8, 9, 7],\n",
       "       [9, 2, 7, 2, 0],\n",
       "       [1, 4, 5, 2, 6],\n",
       "       [2, 1, 1, 2, 2],\n",
       "       [7, 0, 7, 9, 7],\n",
       "       [2, 3, 1, 1, 9],\n",
       "       [9, 3, 7, 8, 6],\n",
       "       [9, 3, 0, 1, 8],\n",
       "       [2, 9, 0, 8, 0],\n",
       "       [7, 6, 1, 5, 6],\n",
       "       [6, 9, 0, 1, 1],\n",
       "       [2, 5, 5, 8, 6],\n",
       "       [4, 5, 9, 3, 5],\n",
       "       [8, 2, 0, 9, 9],\n",
       "       [9, 6, 5, 2, 8],\n",
       "       [6, 1, 6, 6, 7],\n",
       "       [0, 3, 4, 6, 8],\n",
       "       [8, 4, 5, 5, 4],\n",
       "       [1, 2, 9, 6, 5],\n",
       "       [2, 7, 6, 1, 7],\n",
       "       [0, 7, 4, 2, 9],\n",
       "       [6, 5, 6, 2, 1],\n",
       "       [8, 7, 8, 0, 8],\n",
       "       [0, 1, 2, 4, 8],\n",
       "       [7, 9, 4, 7, 4],\n",
       "       [0, 1, 1, 5, 8],\n",
       "       [3, 8, 7, 1, 2],\n",
       "       [7, 8, 3, 4, 7],\n",
       "       [4, 5, 5, 8, 9],\n",
       "       [8, 8, 8, 4, 2],\n",
       "       [2, 4, 9, 0, 2],\n",
       "       [9, 1, 2, 8, 7],\n",
       "       [2, 9, 9, 8, 9],\n",
       "       [6, 4, 3, 0, 6],\n",
       "       [2, 1, 3, 2, 0],\n",
       "       [1, 1, 1, 2, 1],\n",
       "       [5, 8, 0, 7, 9],\n",
       "       [6, 2, 6, 8, 2],\n",
       "       [4, 2, 8, 4, 6],\n",
       "       [2, 9, 1, 1, 8],\n",
       "       [4, 0, 4, 8, 4],\n",
       "       [0, 5, 3, 6, 8],\n",
       "       [7, 5, 3, 1, 9],\n",
       "       [6, 2, 9, 5, 4],\n",
       "       [6, 2, 8, 4, 3],\n",
       "       [4, 1, 1, 6, 2],\n",
       "       [2, 9, 6, 9, 8],\n",
       "       [9, 8, 4, 3, 9],\n",
       "       [6, 1, 4, 0, 6],\n",
       "       [1, 6, 8, 0, 0],\n",
       "       [5, 7, 7, 6, 4],\n",
       "       [3, 4, 7, 5, 1],\n",
       "       [2, 2, 6, 3, 1],\n",
       "       [6, 9, 3, 7, 2],\n",
       "       [7, 7, 6, 5, 2],\n",
       "       [1, 0, 6, 4, 5],\n",
       "       [1, 8, 7, 2, 0],\n",
       "       [5, 4, 8, 9, 7],\n",
       "       [7, 5, 6, 8, 9],\n",
       "       [8, 8, 9, 5, 7],\n",
       "       [8, 9, 5, 5, 6],\n",
       "       [4, 8, 6, 6, 0],\n",
       "       [2, 7, 7, 3, 1],\n",
       "       [4, 0, 8, 0, 0],\n",
       "       [4, 4, 9, 7, 0],\n",
       "       [2, 3, 2, 9, 4],\n",
       "       [9, 2, 6, 5, 1],\n",
       "       [3, 5, 6, 3, 5],\n",
       "       [3, 6, 0, 5, 1],\n",
       "       [1, 7, 6, 3, 7]])"
      ]
     },
     "metadata": {},
     "output_type": "display_data"
    }
   ],
   "source": [
    "\n",
    "\n",
    "# Generar una matriz de 100 filas y 5 columnas con números aleatorios entre 0 y 9\n",
    "m1 = np.random.randint(0, 10, size=(100, 5))\n",
    "display(m1)\n"
   ]
  },
  {
   "cell_type": "markdown",
   "metadata": {
    "id": "IHQyY4iorbDV"
   },
   "source": [
    "---\n",
    "## Ejercicio 2 (1 pto)"
   ]
  },
  {
   "cell_type": "markdown",
   "metadata": {
    "id": "znWcQDjLrb3M"
   },
   "source": [
    "Partiendo del dataset **\"vg_sales.csv\"** y utilizando Pandas, muestra la forma de su dataframe, índice, número de filas, media por columnas, valores máximos y mínimos por columnas, mediana por columnas y la desviación típica por columnas:"
   ]
  },
  {
   "cell_type": "code",
   "execution_count": 3,
   "metadata": {
    "id": "ra3tRJvHrcM7"
   },
   "outputs": [
    {
     "data": {
      "text/plain": [
       "(16598, 11)"
      ]
     },
     "metadata": {},
     "output_type": "display_data"
    },
    {
     "data": {
      "text/plain": [
       "RangeIndex(start=0, stop=16598, step=1)"
      ]
     },
     "metadata": {},
     "output_type": "display_data"
    },
    {
     "data": {
      "text/plain": [
       "16598"
      ]
     },
     "metadata": {},
     "output_type": "display_data"
    }
   ],
   "source": [
    "df_sales = pd.read_csv('vg_sales.csv')\n",
    "display(df_sales.shape)  #forma del dataframe\n",
    "display(df_sales.index)\n",
    "display(df_sales.shape[0])  #N filas"
   ]
  },
  {
   "cell_type": "code",
   "execution_count": 4,
   "metadata": {},
   "outputs": [
    {
     "name": "stdout",
     "output_type": "stream",
     "text": [
      "Rank:\n",
      "Media de la columna: 8300.605253645017\n",
      "Valor máximo de la columna: 16600\n",
      "Valor mínimo de la columna: 1\n",
      "Mediana de la columna: 8300.5\n",
      "Desviación típica de la columna: 4791.853932896403\n",
      "Year:\n",
      "Media de la columna: 2006.4064433147546\n",
      "Valor máximo de la columna: 2020.0\n",
      "Valor mínimo de la columna: 1980.0\n",
      "Mediana de la columna: 2007.0\n",
      "Desviación típica de la columna: 5.828981114712805\n",
      "NA_Sales:\n",
      "Media de la columna: 0.26466742981082064\n",
      "Valor máximo de la columna: 41.49\n",
      "Valor mínimo de la columna: 0.0\n",
      "Mediana de la columna: 0.08\n",
      "Desviación típica de la columna: 0.8166830292988796\n",
      "EU_Sales:\n",
      "Media de la columna: 0.14665200626581515\n",
      "Valor máximo de la columna: 29.02\n",
      "Valor mínimo de la columna: 0.0\n",
      "Mediana de la columna: 0.02\n",
      "Desviación típica de la columna: 0.5053512312869116\n",
      "JP_Sales:\n",
      "Media de la columna: 0.077781660441017\n",
      "Valor máximo de la columna: 10.22\n",
      "Valor mínimo de la columna: 0.0\n",
      "Mediana de la columna: 0.0\n",
      "Desviación típica de la columna: 0.30929064808220297\n",
      "Other_Sales:\n",
      "Media de la columna: 0.0480630196409206\n",
      "Valor máximo de la columna: 10.57\n",
      "Valor mínimo de la columna: 0.0\n",
      "Mediana de la columna: 0.01\n",
      "Desviación típica de la columna: 0.18858840291271461\n",
      "Global_Sales:\n",
      "Media de la columna: 0.5374406555006628\n",
      "Valor máximo de la columna: 82.74\n",
      "Valor mínimo de la columna: 0.01\n",
      "Mediana de la columna: 0.17\n",
      "Desviación típica de la columna: 1.5550279355699124\n",
      "Columnas no numéricas: ['Name', 'Platform', 'Genre', 'Publisher']\n"
     ]
    }
   ],
   "source": [
    "#media, valor máximo y mínimo, mediana y desviación típica por columnas (solo si son numericas):\n",
    "lista_cols_nonum = list()\n",
    "for e in df_sales.columns:\n",
    "    if pd.api.types.is_numeric_dtype(df_sales[e]):\n",
    "        print(f'{df_sales[e].name}:')\n",
    "        print(f'Media de la columna: {df_sales[e].mean()}')\n",
    "        print(f'Valor máximo de la columna: {df_sales[e].max()}')\n",
    "        print(f'Valor mínimo de la columna: {df_sales[e].min()}')\n",
    "        print(f'Mediana de la columna: {df_sales[e].median()}')\n",
    "        print(f'Desviación típica de la columna: {df_sales[e].std()}')\n",
    "    else:\n",
    "        lista_cols_nonum.append(df_sales[e].name)\n",
    "\n",
    "print(f'Columnas no numéricas: {lista_cols_nonum}')"
   ]
  },
  {
   "cell_type": "markdown",
   "metadata": {
    "id": "35cd-RMurSpm"
   },
   "source": [
    "---\n",
    "## Ejercicio 3 (1 pto.)"
   ]
  },
  {
   "cell_type": "markdown",
   "metadata": {
    "id": "763Tb--BrTVD"
   },
   "source": [
    "Partiendo de la lista de listas \"data\" crea una matriz de NumPy.\n",
    "\n",
    "Muestra un gráfico de líneas teniendo en cuenta que la primera fila son los datos del eje X y la segunda fila son los datos del eje Y. Por último, el gráfico debe añadir lo siguiente:\n",
    "\n",
    "*   Deberá tener el título \"Gráfico de líneas\"\n",
    "*   En el eje X debe aparecer el rótulo \"Abscisas\"\n",
    "*   En el eje Y debe aparecer el rótulo \"Ordenadas\""
   ]
  },
  {
   "cell_type": "code",
   "execution_count": 5,
   "metadata": {
    "id": "U9YRloyYrThA"
   },
   "outputs": [
    {
     "data": {
      "image/png": "[encoded data removed]",
      "text/plain": [
       "<Figure size 640x480 with 1 Axes>"
      ]
     },
     "metadata": {},
     "output_type": "display_data"
    }
   ],
   "source": [
    "data = [[0,1,2,3,4,5,6,7,8,9],[0,9,1,8,2,7,3,6,4,5]]\n",
    "m3 = np.array(data)\n",
    "x=m3[0,:]\n",
    "y=m3[1,:]\n",
    "\n",
    "plt.plot(x, y)\n",
    "\n",
    "plt.title(\"Gráfico de líneas\")\n",
    "plt.xlabel(\"Abscisas\")\n",
    "plt.ylabel(\"Ordenadas\")\n",
    "\n",
    "plt.show()"
   ]
  },
  {
   "cell_type": "markdown",
   "metadata": {
    "id": "sBjnAsUvrUzi"
   },
   "source": [
    "---\n",
    "## Ejercicio 4 (1.5 ptos.)"
   ]
  },
  {
   "cell_type": "markdown",
   "metadata": {
    "id": "lsJM0MOprVuF"
   },
   "source": [
    "Genera una matriz (50 filas x 2 columnas) de datos aleatorios entre 0 y 1 con NumPy. Muestra un gráfico de dispersión teniendo en cuenta que los datos de la primera columna serán los valores del eje X, mientras que los datos de la segunda columna serán los valores del eje Y."
   ]
  },
  {
   "cell_type": "code",
   "execution_count": 6,
   "metadata": {
    "id": "DdQeRgJYrV-o"
   },
   "outputs": [
    {
     "data": {
      "image/png": "[encoded data removed]",
      "text/plain": [
       "<Figure size 640x480 with 1 Axes>"
      ]
     },
     "metadata": {},
     "output_type": "display_data"
    }
   ],
   "source": [
    "m4 = np.random.rand(50, 2)\n",
    "\n",
    "x = m4[:, 0] \n",
    "y = m4[:, 1]  \n",
    "\n",
    "plt.scatter(x, y)\n",
    "\n",
    "plt.title(\"Gráfico dispersión\")\n",
    "plt.xlabel(\"Columna 1\")\n",
    "plt.ylabel(\"Columna 2\")\n",
    "\n",
    "plt.show()"
   ]
  },
  {
   "cell_type": "markdown",
   "metadata": {
    "id": "-M1t6ywGrWRs"
   },
   "source": [
    "---\n",
    "## Ejercicio 5 (2.5 ptos.)"
   ]
  },
  {
   "cell_type": "markdown",
   "metadata": {
    "id": "P_jL-6CfrXC9"
   },
   "source": [
    "Partimos del dataset **\"vg_sales.csv\"** importado anteriormente. Este dataset contiene una lista de videojuegos con más de 100.000 copias vendidas. En concreto tiene las siguientes columnas:\n",
    "\n",
    "*   **Rank** - Posición en el ranking de ventas\n",
    "*   **Name** - Nombre del videojuego\n",
    "*   **Platform** - Plataforma del videojuego (PC,PS4, etc.)\n",
    "*   **Year** - Año de publicación del videojuego\n",
    "*   **Genre** - Género del videojuego\n",
    "*   **Publisher** - Publicador\n",
    "*   **NA_Sales** - Ventas en Norte América (en millones)\n",
    "*   **EU_Sales** - Ventas en Europa (en millones)\n",
    "*   **JP_Sales** - Ventas en Japón (en millones)\n",
    "*   **Other_Sales** - Ventas en el resto del mundo (en millones)\n",
    "*   **Global_Sales** - Ventas totales en todo el mundo (en millones)\n",
    "\n",
    "Mostrar del contenido del dataset los siguientes apartados:\n",
    "\n",
    "*   Una descripción básica de su contenido\n",
    "*   Muestra los nombres de sus columnas\n",
    "*   Del primer elemento del dataset (primera fila), muestra un gráfico de barras comparando las ventas que ha obtenido en los siguientes campos:\n",
    "    *  NA_Sales\n",
    "    *  EU_Sales\n",
    "    *  JP_Sales\n",
    "    *  Other_Sales\n",
    "    *  Global_Sales\n",
    "\n",
    "Por último, como título del gráfico de barras muestra el nombre del videojuego al que pertenece (campo \"Name\")"
   ]
  },
  {
   "cell_type": "code",
   "execution_count": 7,
   "metadata": {
    "id": "bpXGMds4rXTY"
   },
   "outputs": [
    {
     "name": "stdout",
     "output_type": "stream",
     "text": [
      "<class 'pandas.core.frame.DataFrame'>\n",
      "RangeIndex: 16598 entries, 0 to 16597\n",
      "Data columns (total 11 columns):\n",
      " #   Column        Non-Null Count  Dtype  \n",
      "---  ------        --------------  -----  \n",
      " 0   Rank          16598 non-null  int64  \n",
      " 1   Name          16598 non-null  object \n",
      " 2   Platform      16598 non-null  object \n",
      " 3   Year          16327 non-null  float64\n",
      " 4   Genre         16598 non-null  object \n",
      " 5   Publisher     16540 non-null  object \n",
      " 6   NA_Sales      16598 non-null  float64\n",
      " 7   EU_Sales      16598 non-null  float64\n",
      " 8   JP_Sales      16598 non-null  float64\n",
      " 9   Other_Sales   16598 non-null  float64\n",
      " 10  Global_Sales  16598 non-null  float64\n",
      "dtypes: float64(6), int64(1), object(4)\n",
      "memory usage: 1.4+ MB\n"
     ]
    },
    {
     "data": {
      "text/plain": [
       "(16598, 11)"
      ]
     },
     "execution_count": 7,
     "metadata": {},
     "output_type": "execute_result"
    }
   ],
   "source": [
    "#Descripción básica de su contenido:\n",
    "df_sales.info()\n",
    "df_sales.describe()\n",
    "df_sales.shape"
   ]
  },
  {
   "cell_type": "code",
   "execution_count": 8,
   "metadata": {},
   "outputs": [
    {
     "name": "stdout",
     "output_type": "stream",
     "text": [
      "['Rank' 'Name' 'Platform' 'Year' 'Genre' 'Publisher' 'NA_Sales' 'EU_Sales'\n",
      " 'JP_Sales' 'Other_Sales' 'Global_Sales']\n"
     ]
    },
    {
     "data": {
      "image/png": "[encoded data removed]",
      "text/plain": [
       "<Figure size 1000x600 with 1 Axes>"
      ]
     },
     "metadata": {},
     "output_type": "display_data"
    }
   ],
   "source": [
    "#Muestra los nombres de sus columnas:\n",
    "print(df_sales.columns.values)\n",
    "#Del primer elemento del dataset (primera fila), muestra un gráfico de barras comparando las ventas que ha obtenido en los siguientes campos: NA_Sales, EU_Sales, JP_Sales, Other_Sales, Global_Sales\n",
    "r1 = df_sales.iloc[0]\n",
    "\n",
    "ventas = ['NA_Sales', 'EU_Sales', 'JP_Sales', 'Other_Sales']\n",
    "valores_ventas_r1 = r1[ventas]\n",
    "\n",
    "plt.figure(figsize=(10, 6))\n",
    "plt.bar(ventas, valores_ventas_r1, color=['blue', 'green', 'red', 'purple'])\n",
    "plt.title(f'Ventas del videojuego: {r1[\"Name\"]}')\n",
    "plt.xlabel('Región')\n",
    "plt.ylabel('Ventas (en millones)')\n",
    "\n",
    "plt.show()\n",
    "\n"
   ]
  },
  {
   "cell_type": "markdown",
   "metadata": {
    "id": "qmLjk4dfrXgx"
   },
   "source": [
    "---\n",
    "## Ejercicio 6 (1 pto.)"
   ]
  },
  {
   "cell_type": "markdown",
   "metadata": {
    "id": "PmnzqKBLrYUs"
   },
   "source": [
    "Partiendo del mismo dataset y juego de la primera fila del ejercicio anterior, Muestra los mismos datos que antes en la gráfica de barras (a excepción del campo \"Global_Sales\") solo que esta vez en un gráfico circular. Como título del gráfico vuelve a utilizar el nombre del videojuego. En cada porción del círculo muestra los porcentajes con el formato \"%1.1f%%\" (parámetro autopct):"
   ]
  },
  {
   "cell_type": "code",
   "execution_count": 9,
   "metadata": {
    "id": "6v9l27LDrYmY"
   },
   "outputs": [
    {
     "data": {
      "image/png": "[encoded data removed]",
      "text/plain": [
       "<Figure size 800x800 with 1 Axes>"
      ]
     },
     "metadata": {},
     "output_type": "display_data"
    }
   ],
   "source": [
    "plt.figure(figsize=(8, 8))\n",
    "plt.pie(valores_ventas_r1, labels=ventas, autopct='%1.1f%%', colors=['blue', 'green', 'red', 'purple'])\n",
    "plt.title(r1[\"Name\"])  \n",
    "plt.show()\n",
    "# Mostrar el"
   ]
  },
  {
   "cell_type": "markdown",
   "metadata": {
    "id": "7f9-1mBxrcdz"
   },
   "source": [
    "---\n",
    "## Ejercicio 7 (2,5 ptos.)"
   ]
  },
  {
   "cell_type": "markdown",
   "metadata": {
    "id": "H43GzFuDrdTS"
   },
   "source": [
    "Partimos del dataset **\"IMDB_Movie_Data.csv\"** que contiene la siguiente información por columnas:\n",
    "\n",
    "*   **Rank**: Posición en el ranking\n",
    "*   **Title**: Título de la película\n",
    "*   **Genre**: Género o géneros separados por comas\n",
    "*   **Description**: Descripción corta\n",
    "*   **Director**: Nombre del director\n",
    "*   **Actors**: Actores separados por comas\n",
    "*   **Year**: Año de publicación\n",
    "*   **Runtime**: Duración (minutos)\n",
    "*   **Rating**: Media de la nota de los votos de los usuarios\n",
    "*   **Votes**: Número de votos\n",
    "*   **Revenue**: Ingresos producidos por la película (millones)\n",
    "*   **Metascrore**: Un promedio agregado de puntajes críticos. Los valores están entre 0 y 100. Las puntuaciones más altas representan críticas positivas.\n",
    "\n",
    "Analiza el dataset y resuelve las siguientes cuestiones:   \n",
    "1. Mejor taquilla y peor taquilla (Revenue (Millions)).\n",
    "2. Director con más películas y director con menos películas.\n",
    "3. Las diez películas más taquilleras.\n",
    "4. Lista de películas dirigidas por Christopher Nolan.\n",
    "5. Películas en las que interviene la actriz Anne Hathaway.\n",
    "6. Película más taquillera en la que ha intervenido Anne Hathaway.   \n",
    "\n",
    "**NOTA: Deja en el código con comentarios todo el trabajo que hagas sobre el dataset**"
   ]
  },
  {
   "cell_type": "code",
   "execution_count": 10,
   "metadata": {
    "id": "r3AMpDmArdiq"
   },
   "outputs": [
    {
     "name": "stdout",
     "output_type": "stream",
     "text": [
      "['Rank' 'Title' 'Genre' 'Description' 'Director' 'Actors' 'Year'\n",
      " 'Runtime (Minutes)' 'Rating' 'Votes' 'Revenue (Millions)' 'Metascore']\n",
      "\n",
      "Película con peor taquilla: 231    A Kind of Murder\n",
      "Name: Title, dtype: object con una taquilla de: 231    0.0\n",
      "Name: Revenue (Millions), dtype: float64 millones\n",
      "\n",
      "Pelicula con mejor taquilla: 50    Star Wars: Episode VII - The Force Awakens\n",
      "Name: Title, dtype: object con una taquilla de: 50    936.63\n",
      "Name: Revenue (Millions), dtype: float64 millones\n"
     ]
    }
   ],
   "source": [
    "df = pd.read_csv(\"IMDB_Movie_Data.csv\")\n",
    "\n",
    "# 1. Mejor taquilla y peor taquilla (Revenue (Millions))\n",
    "# Eliminamos las filas con valores nulos\n",
    "df_nn = df.dropna(axis=0)\n",
    "print(df_nn.columns.values)\n",
    "#1. Mejor taquilla y peor taquilla (Revenue (Millions)).\n",
    "peor_taq = df_nn[df_nn['Revenue (Millions)'] == df_nn['Revenue (Millions)'].min()]\n",
    "mejor_taq = df_nn[df_nn['Revenue (Millions)'] == df_nn['Revenue (Millions)'].max()]\n",
    "print(f\"\\nPelícula con peor taquilla: {peor_taq['Title']} con una taquilla de: {peor_taq['Revenue (Millions)']} millones\")\n",
    "print(f\"\\nPelicula con mejor taquilla: {mejor_taq['Title']} con una taquilla de: {mejor_taq['Revenue (Millions)']} millones\")\n",
    "   \n"
   ]
  },
  {
   "cell_type": "code",
   "execution_count": 11,
   "metadata": {},
   "outputs": [
    {
     "name": "stdout",
     "output_type": "stream",
     "text": [
      "El director con más peliculas es Ridley Scott con 8\n",
      "El director con mñas peliculas es Bobby Farrelly con 1\n"
     ]
    }
   ],
   "source": [
    "#2. Director con más películas y director con menos películas.\n",
    "director_counts = df['Director'].value_counts()\n",
    "\n",
    "director_mas_peliculas = director_counts.idxmax()\n",
    "num_mas_peliculas = director_counts.max()\n",
    "\n",
    "director_menos_peliculas = director_counts.idxmin()\n",
    "num_menos_peliculas = director_counts.min()\n",
    "\n",
    "print(f'El director con más peliculas es {director_mas_peliculas} con {num_mas_peliculas}')\n",
    "print(f'El director con mñas peliculas es {director_menos_peliculas} con {num_menos_peliculas}')\n"
   ]
  },
  {
   "cell_type": "code",
   "execution_count": 12,
   "metadata": {},
   "outputs": [
    {
     "name": "stdout",
     "output_type": "stream",
     "text": [
      "50     Star Wars: Episode VII - The Force Awakens\n",
      "87                                         Avatar\n",
      "85                                 Jurassic World\n",
      "76                                   The Avengers\n",
      "54                                The Dark Knight\n",
      "                          ...                    \n",
      "19                                        Arrival\n",
      "360                                 Step Brothers\n",
      "200                              Edge of Tomorrow\n",
      "837                 You Don't Mess with the Zohan\n",
      "9                                      Passengers\n",
      "Name: Title, Length: 250, dtype: object\n"
     ]
    }
   ],
   "source": [
    "#3. Las diez películas más taquilleras\n",
    "peliculas_mas_taq = df.sort_values(by='Revenue (Millions)', ascending=False)\n",
    "print(peliculas_mas_taq.loc[:9]['Title'])"
   ]
  },
  {
   "cell_type": "code",
   "execution_count": 13,
   "metadata": {},
   "outputs": [
    {
     "name": "stdout",
     "output_type": "stream",
     "text": [
      "Películas de Christopher Nolan:\n",
      "                     Title\n",
      "36            Interstellar\n",
      "54         The Dark Knight\n",
      "64            The Prestige\n",
      "80               Inception\n",
      "124  The Dark Knight Rises\n"
     ]
    }
   ],
   "source": [
    "#4. Lista de películas dirigidas por Christopher Nolan.\n",
    "peliculas_chris = df[df['Director'] == 'Christopher Nolan']\n",
    "print(\"Películas de Christopher Nolan:\")\n",
    "print(peliculas_chris[['Title']])\n"
   ]
  },
  {
   "cell_type": "code",
   "execution_count": 14,
   "metadata": {},
   "outputs": [
    {
     "name": "stdout",
     "output_type": "stream",
     "text": [
      "Peliculas en las que aparece Anne Hathaway\n",
      "                               Title\n",
      "14                          Colossal\n",
      "36                      Interstellar\n",
      "124            The Dark Knight Rises\n",
      "245                   Les Misérables\n",
      "297            The Devil Wears Prada\n",
      "306  Alice Through the Looking Glass\n",
      "547              Alice in Wonderland\n",
      "572                       The Intern\n",
      "630               Love & Other Drugs\n",
      "873                          One Day\n",
      "883                              Rio\n",
      "899                       Bride Wars\n"
     ]
    }
   ],
   "source": [
    "#5. Películas en las que interviene la actriz Anne Hathaway.\n",
    "peliculas_anne = df[df['Actors'].str.contains('Anne Hathaway', case=False, na=False)]\n",
    "\n",
    "print(f'Peliculas en las que aparece Anne Hathaway')\n",
    "print(peliculas_anne[['Title']])"
   ]
  },
  {
   "cell_type": "code",
   "execution_count": 15,
   "metadata": {},
   "outputs": [
    {
     "name": "stdout",
     "output_type": "stream",
     "text": [
      "La película más taquillera de Anne Hathaway es ['The Dark Knight Rises']\n"
     ]
    }
   ],
   "source": [
    "#6. Película más taquillera en la que ha intervenido Anne Hathaway.\n",
    "peli_anne_mas_taq = peliculas_anne[peliculas_anne['Revenue (Millions)'] == peliculas_anne['Revenue (Millions)'].max()]['Title']\n",
    "print(f'La película más taquillera de Anne Hathaway es {peli_anne_mas_taq.values}')"
   ]
  }
 ],
 "metadata": {
  "colab": {
   "authorship_tag": "ABX9TyMlBztaNlAmxbowl7GkH4Ru",
   "collapsed_sections": [],
   "name": "06-Examen_Apellido1_Nombre.ipynb",
   "provenance": []
  },
  "kernelspec": {
   "display_name": "Python 3",
   "name": "python3"
  },
  "language_info": {
   "codemirror_mode": {
    "name": "ipython",
    "version": 3
   },
   "file_extension": ".py",
   "mimetype": "text/x-python",
   "name": "python",
   "nbconvert_exporter": "python",
   "pygments_lexer": "ipython3",
   "version": "3.11.11"
  }
 },
 "nbformat": 4,
 "nbformat_minor": 0
}
